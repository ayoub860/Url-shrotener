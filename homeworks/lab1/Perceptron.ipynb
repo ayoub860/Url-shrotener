{
  "nbformat": 4,
  "nbformat_minor": 0,
  "metadata": {
    "colab": {
      "name": " Perceptron.ipynb",
      "provenance": [],
      "collapsed_sections": []
    },
    "kernelspec": {
      "name": "python3",
      "display_name": "Python 3"
    },
    "language_info": {
      "name": "python"
    }
  },
  "cells": [
    {
      "cell_type": "markdown",
      "metadata": {
        "id": "KAEY2aSlbPe0"
      },
      "source": [
        "<a href=\"https://colab.research.google.com/github/YKochura/cv-kpi/blob/5fd4822c6037b79267e80b688d5dd8e4326e304d/homeworks/lab1/Perceptron.ipynb\" target=\"_parent\"><img src=\"https://colab.research.google.com/assets/colab-badge.svg\" alt=\"Open In Colab\"/></a>"
      ]
    },
    {
      "cell_type": "markdown",
      "metadata": {
        "id": "DLqCQivK0I1Q"
      },
      "source": [
        "# The Perceptron: Forward Propagation\n",
        "\n",
        "\n",
        "The perceptron is a simple supervised machine learning algorithm and one of the earliest neural network architectures. It was introduced by  Frank Rosenblatt in 1958. A perceptron is a binary linear classifier. It's single-layer neural network (the single neuron)."
      ]
    },
    {
      "cell_type": "markdown",
      "metadata": {
        "id": "nNDlbjYOYRDh"
      },
      "source": [
        "The dataset is using for training perceptron:\n",
        "\n",
        "- Train Dataset: $\\{(\\boldsymbol{X}^{(1)}, y^{(1)}), (\\boldsymbol{X}^{(2)}, y^{(2)}),..., (\\boldsymbol{X}^{(n)}, y^{(n)})\\}$\n",
        "\n",
        "  - where $\\boldsymbol{X}^{(i)}$ &mdash; the $i$-sample. It's $m$-dimensional vector $\\boldsymbol{X}^{(i)} = (x^{(i)}_1, x^{(i)}_2, ..., x^{(i)}_m)$\n",
        "  - $n$ &mdash; the total number of training samples\n",
        "  - $y^{(i)}$ &mdash; the ground truth label of the $i$-sample (binary target variable), $y^{(i)} \\in \\{0,1\\}$\n",
        "\n",
        "The appropriate weights $\\boldsymbol{W}= (w_1, w_2, ..., w_m)$ are applied to the input vector $\\boldsymbol{x}^{(i)} = (x^{(i)}_1, x^{(i)}_2, ..., x^{(i)}_m)$ and the resulting weighted sum including bias $b$ passed to an activation function that produces the output:\n",
        "\n",
        "  ![]( https://docs.google.com/uc?export=download&id=13eRRx9vkmfczLaf2de2Mq_E_O1qG9Yhs)\n",
        "\n",
        "Bias is just like an intercept added in a linear equation. It is an additional parameter in the Neural Network which is used to adjust the output along with the weighted sum of the inputs to the neuron. Moreover, bias value allows you to shift the activation function to either right or left."
      ]
    },
    {
      "cell_type": "markdown",
      "metadata": {
        "id": "CvCoaV7Bx4xc"
      },
      "source": [
        "# Programming Assignment\n",
        "\n",
        "Let's consider a forward propagation of a single 2-dimensional vector:\n",
        "\n",
        "$$X = \\begin{bmatrix}\n",
        "x_1  \\\\\n",
        "x_2 \n",
        "\\end{bmatrix} = \\begin{bmatrix}\n",
        "-1  \\\\\n",
        "2 \n",
        "\\end{bmatrix}$$"
      ]
    },
    {
      "cell_type": "code",
      "metadata": {
        "id": "1WCqlT-eKdIX"
      },
      "source": [
        "import numpy as np  # numerical python library for calculus\n",
        "import matplotlib.pyplot as plt  # library for interactive plots"
      ],
      "execution_count": null,
      "outputs": []
    },
    {
      "cell_type": "code",
      "metadata": {
        "id": "fbf4GGf_Q6by"
      },
      "source": [
        "def input_sample():\n",
        "  \"\"\"\n",
        "  This function creates an input column vector of the shape (2, 1)\n",
        "  Return:\n",
        "  X -- the input column vector of the shape (2, 1)\n",
        "  \"\"\"\n",
        "\n",
        "  X = np.array([[-1], [2]])\n",
        "  return X"
      ],
      "execution_count": 77,
      "outputs": []
    },
    {
      "cell_type": "code",
      "metadata": {
        "id": "Hgg0ng2CVEMI"
      },
      "source": [
        "X = input_sample()"
      ],
      "execution_count": 78,
      "outputs": []
    },
    {
      "cell_type": "code",
      "metadata": {
        "colab": {
          "base_uri": "https://localhost:8080/"
        },
        "id": "FJjwTAsoVad_",
        "outputId": "951c564f-05c7-44ab-e8f7-382cdd4bf88c"
      },
      "source": [
        "X"
      ],
      "execution_count": 79,
      "outputs": [
        {
          "output_type": "execute_result",
          "data": {
            "text/plain": [
              "array([[-1],\n",
              "       [ 2]])"
            ]
          },
          "metadata": {},
          "execution_count": 79
        }
      ]
    },
    {
      "cell_type": "code",
      "metadata": {
        "colab": {
          "base_uri": "https://localhost:8080/"
        },
        "id": "w5KheN_lu41J",
        "outputId": "6b862589-e1a2-4b12-ba8b-99af684f240b"
      },
      "source": [
        "X.shape"
      ],
      "execution_count": 62,
      "outputs": [
        {
          "output_type": "execute_result",
          "data": {
            "text/plain": [
              "(2, 1)"
            ]
          },
          "metadata": {},
          "execution_count": 62
        }
      ]
    },
    {
      "cell_type": "markdown",
      "metadata": {
        "id": "7nTWvzYE3kiB"
      },
      "source": [
        "A perceptron is trained using some optimization algorithm, for example **gradient descent**. The training algorithm has different steps. In the beginning (step 0) the model parameters are initialized. The other steps (see below) are repeated for a specified number of training iterations or until the parameters have converged.\n",
        "\n",
        "**Step 0:** Initialize the weight vector and bias.\n",
        "\n",
        "**Step 1:** Compute a linear combination of the input features and weights. This can be done in one step for all training examples, using vectorization and broadcasting:\n",
        "$$z = X^T \\cdot W + b$$\n",
        "\n",
        "where $\\cdot$ denotes the dot product.\n",
        "\n",
        "**Step 2:** Apply the sigmoid activation function (see lecture), which returns binary values:\n",
        "\n",
        "$$\\widehat y = \\begin{cases} \n",
        "1, \\; \\text{if} \\, z \\geq 0 \\\\\n",
        "0, \\; \\text{else} \n",
        "\\end{cases} $$\n",
        "\n",
        "**Step 3:** Compute the weight updates using the optimization algorithm:\n",
        "\n",
        "\\begin{align} \n",
        "\\Delta \\boldsymbol{W} &= \\alpha \\, \\boldsymbol{X}^T \\cdot  \\big(\\boldsymbol{ \\widehat y} - \\boldsymbol{y} \\big) \\\\\n",
        "\\Delta b &= \\alpha \\, \\big(\\boldsymbol{\\widehat{y}} - \\boldsymbol{y} \\big)\n",
        "\\end{align}\n",
        "\n",
        "here $\\alpha$ is the learning rate.\n",
        "\n",
        "**Step 4:** Update the weights and bias:\n",
        "\n",
        "\\begin{align} \n",
        "\\boldsymbol{W} &= \\boldsymbol{W} + \\Delta \\boldsymbol{W} \\\\\n",
        "b &= b  + \\Delta b\n",
        "\\end{align}\n",
        "\n"
      ]
    },
    {
      "cell_type": "markdown",
      "metadata": {
        "id": "RXvF_IjvExcO"
      },
      "source": [
        "# **Step 0:** Initialize a weight column vector and bias \n",
        "Initialize this weight column vector and bias in the function `parameters_inititalization`:\n",
        "\n",
        "\\begin{align} \n",
        "W = \\begin{bmatrix}\n",
        "w_1  \\\\\n",
        "w_2 \n",
        "\\end{bmatrix} &= \\begin{bmatrix}\n",
        "3  \\\\\n",
        "-2 \n",
        "\\end{bmatrix} \\\\ \\\\\n",
        "b &= 1\n",
        "\\end{align}\n"
      ]
    },
    {
      "cell_type": "code",
      "metadata": {
        "id": "I2srZLw9YQ0Y"
      },
      "source": [
        "# Implement\n",
        "def parameters_inititalization():\n",
        "  \"\"\"\n",
        "  This function initializes a weight column vector of shape (2, 1) and bias\n",
        "  Return:\n",
        "  W -- weight column vector of the shape (2, 1)\n",
        "  b -- bias (scalar)\n",
        "  \"\"\"\n",
        "  W = np.array([[3],[-2]])\n",
        "  b = 1 \n",
        "\n",
        "  return W, b"
      ],
      "execution_count": 63,
      "outputs": []
    },
    {
      "cell_type": "code",
      "metadata": {
        "id": "74VJIZB9aP26"
      },
      "source": [
        "W, b = parameters_inititalization()"
      ],
      "execution_count": 64,
      "outputs": []
    },
    {
      "cell_type": "code",
      "metadata": {
        "id": "oy938zBtaVDi",
        "outputId": "ecd46a2b-8334-4ec1-b35d-23237534078a",
        "colab": {
          "base_uri": "https://localhost:8080/"
        }
      },
      "source": [
        "W"
      ],
      "execution_count": 51,
      "outputs": [
        {
          "output_type": "execute_result",
          "data": {
            "text/plain": [
              "array([[ 3],\n",
              "       [-2]])"
            ]
          },
          "metadata": {},
          "execution_count": 51
        }
      ]
    },
    {
      "cell_type": "code",
      "metadata": {
        "id": "TTRFop22vlcW",
        "outputId": "772a1ad0-3ca2-4bf2-af14-f3637b9c037b",
        "colab": {
          "base_uri": "https://localhost:8080/"
        }
      },
      "source": [
        "W.shape"
      ],
      "execution_count": 52,
      "outputs": [
        {
          "output_type": "execute_result",
          "data": {
            "text/plain": [
              "(2, 1)"
            ]
          },
          "metadata": {},
          "execution_count": 52
        }
      ]
    },
    {
      "cell_type": "code",
      "metadata": {
        "id": "b_sXFPa9aw8C",
        "outputId": "c59114e2-9bf3-4157-95b2-6ffc6381a444",
        "colab": {
          "base_uri": "https://localhost:8080/"
        }
      },
      "source": [
        "b"
      ],
      "execution_count": 53,
      "outputs": [
        {
          "output_type": "execute_result",
          "data": {
            "text/plain": [
              "1"
            ]
          },
          "metadata": {},
          "execution_count": 53
        }
      ]
    },
    {
      "cell_type": "code",
      "metadata": {
        "id": "zvis-Pmaazbe"
      },
      "source": [
        "# Implement\n",
        "def forwardPropagate(X, W, b):\n",
        "   \"\"\"\n",
        "  This function computes the total weighted sum including bias and finds sigmoid activation\n",
        "  value in forward propagation\n",
        "\n",
        "  Parametes:\n",
        "  X -- the input column vector of the shape (2, 1)\n",
        "  W -- weight column vector of the shape (2, 1)\n",
        "  b -- bias (scalar)\n",
        "\n",
        "  Return:\n",
        "  z -- the total weighted sum including bias\n",
        "  g -- sigmoid activation value\n",
        "   \"\"\"\n",
        "   x = np.multiply(X,W)\n",
        "   summation = 0 \n",
        "   for i in x:\n",
        "     for j in i:\n",
        "       summation += j \n",
        "   z = (summation + 1) \n",
        "   g = 1/(1+np.exp(-z))\n",
        "   return z, g"
      ],
      "execution_count": 80,
      "outputs": []
    },
    {
      "cell_type": "code",
      "metadata": {
        "id": "tSBb2g9cbj5x"
      },
      "source": [
        "z, g = forwardPropagate(X, W, b)"
      ],
      "execution_count": 81,
      "outputs": []
    },
    {
      "cell_type": "code",
      "metadata": {
        "id": "7ss1p6HTbnyu",
        "outputId": "7cd9c79d-3ec9-42c0-9fbe-4ca575d30293",
        "colab": {
          "base_uri": "https://localhost:8080/"
        }
      },
      "source": [
        "z"
      ],
      "execution_count": 82,
      "outputs": [
        {
          "output_type": "execute_result",
          "data": {
            "text/plain": [
              "-6"
            ]
          },
          "metadata": {},
          "execution_count": 82
        }
      ]
    },
    {
      "cell_type": "code",
      "metadata": {
        "id": "2SfFzAOCbtLV",
        "outputId": "bdac636a-d87a-4dcd-82e9-7bcc37c08540",
        "colab": {
          "base_uri": "https://localhost:8080/"
        }
      },
      "source": [
        "g"
      ],
      "execution_count": 83,
      "outputs": [
        {
          "output_type": "execute_result",
          "data": {
            "text/plain": [
              "0.0024726231566347743"
            ]
          },
          "metadata": {},
          "execution_count": 83
        }
      ]
    },
    {
      "cell_type": "markdown",
      "metadata": {
        "id": "TQttp26cQI8t"
      },
      "source": [
        "# Disicion boundary "
      ]
    },
    {
      "cell_type": "code",
      "metadata": {
        "colab": {
          "base_uri": "https://localhost:8080/",
          "height": 295
        },
        "id": "JxxpYPwSbuuX",
        "outputId": "63878499-8734-4f5a-f552-44da67428a04"
      },
      "source": [
        "plt.xlim(-3, 3)\n",
        "plt.ylim(-3, 3)\n",
        "x1 = np.linspace(-5,5,100)\n",
        "x2 = 1.5*x1 + 0.5\n",
        "\n",
        "plt.plot(x1, x2, '-r')\n",
        "plt.title('1 + 3x1 - 2x2 =0 ')\n",
        "plt.xlabel('x1')  # the first feature\n",
        "plt.ylabel('x2')  # the second feature\n",
        "\n",
        "plt.plot(-1, 2, 'bo')  # X.T = [-1, 2] -- the imput sample\n",
        "\n",
        "plt.axhline(0, color='blue')\n",
        "plt.axvline(0, color='blue')\n",
        "plt.grid()\n",
        "plt.show()"
      ],
      "execution_count": 48,
      "outputs": [
        {
          "output_type": "display_data",
          "data": {
            "image/png": "[encoded data removed]",
            "text/plain": [
              "<Figure size 432x288 with 1 Axes>"
            ]
          },
          "metadata": {
            "needs_background": "light"
          }
        }
      ]
    },
    {
      "cell_type": "code",
      "metadata": {
        "id": "nvL9WXoBcl7K"
      },
      "source": [
        ""
      ],
      "execution_count": 68,
      "outputs": []
    }
  ]
}